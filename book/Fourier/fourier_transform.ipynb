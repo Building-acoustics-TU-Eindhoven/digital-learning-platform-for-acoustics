{
 "cells": [
  {
   "cell_type": "markdown",
   "metadata": {},
   "source": [
    "# Introcution to Fourier Transform \n",
    "\n",
    "## Definition and Basic Properties\n",
    "The Fourier Transform is a mathematical tool that decomposes a time-domain signal into its constituent frequencies. It represents the signal in the frequency domain, where the amplitude and phase of each frequency component are expressed. The Fourier Transform of a continuous function $f(t)$ is defined as:\n",
    "\n",
    "```{math}\n",
    ":label: fourier_transform_definition\n",
    "F(\\omega) = \\int_{-\\infty}^{\\infty} f(t) e^{-j\\omega t} dt\n",
    "```\n",
    "\n",
    "Here:\n",
    "- $F(\\omega)$: Frequency-domain representation of $f(t)$.\n",
    "- $\\omega$: Angular frequency ($\\omega = 2\\pi f$).\n",
    "- $t$: Time variable.\n",
    "- $j$: Imaginary unit.\n",
    "\n",
    "### Key Properties of Fourier Transform\n",
    "1. **Linearity:** If $h(t) = a f(t) + b g(t)$, then $H(\\omega) = a F(\\omega) + b G(\\omega)$.\n",
    "2. **Time Shift:** A time shift in $f(t)$ results in a phase shift in $F(\\omega)$:\n",
    "   ```{math}\n",
    "   :label: time_shift_property\n",
    "   f(t - t_0) \\xrightarrow{FT} e^{-j\\omega t_0} F(\\omega).\n",
    "   ```\n",
    "3. **Frequency Shift:** Modulating $f(t)$ by $e^{j\\omega_0 t}$ shifts the spectrum:\n",
    "   ```{math}\n",
    "   :label: frequency_shift_property\n",
    "   f(t)e^{j\\omega_0 t} \\xrightarrow{FT} F(\\omega - \\omega_0).\n",
    "   ```\n",
    "4. **Parseval's Theorem:** The energy of the signal in time domain equals the energy in frequency domain:\n",
    "   ```{math}\n",
    "   :label: parseval_theorem\n",
    "   \\int_{-\\infty}^{\\infty} |f(t)|^2 dt = \\frac{1}{2\\pi} \\int_{-\\infty}^{\\infty} |F(\\omega)|^2 d\\omega.\n",
    "   ```\n",
    "More details on properties and applications of Fourier Transform can be found in the [Fourier Transform](https://en.wikipedia.org/wiki/Fourier_transform) Wikipedia page.\n",
    "\n",
    "## Continuous vs. Discrete Fourier Transforms\n",
    "While the continuous Fourier Transform applies to signals defined over an infinite time range, the Discrete Fourier Transform (DFT) is used for sampled signals. The DFT is defined as:\n",
    "\n",
    "```{math}\n",
    ":label: dft_definition\n",
    "F[k] = \\sum_{n=0}^{N-1} f[n] e^{-j \\frac{2\\pi}{N} kn}, \\quad k = 0, 1, ..., N-1.\n",
    "```\n",
    "\n",
    "Here:\n",
    "- $N$: Number of samples.\n",
    "- $f[n]$: Sampled signal.\n",
    "- $F[k]$: Discrete Fourier coefficients.\n",
    "\n",
    "The DFT is computationally efficient when implemented using the Fast Fourier Transform (FFT), making it crucial in digital signal processing.\n",
    "\n",
    "## Physical Interpretation in Acoustics\n",
    "In acoustics, the Fourier Transform is vital for analyzing sound waves, which are time-domain signals, into their frequency components. This aids in understanding:\n",
    "- **Harmonics:** Identifying frequencies present in a complex sound.\n",
    "- **Resonances:** Peaks in the frequency spectrum corresponding to natural frequencies of a system.\n",
    "- **Filters:** Designing systems to pass or block specific frequency components.\n",
    "\n",
    "For instance, a complex waveform produced by musical instruments can be decomposed to reveal its fundamental frequency and overtones. Similarly, analyzing room acoustics often involves studying frequency-dependent reverberation.\n",
    "\n",
    "## Interactive Demonstration\n",
    "Below is the Python code to run the interactive simulation, where you can\n",
    "- Select the type of waveform (sine, square, triangular).\n",
    "- Adjust the frequency slider to observe changes in both time and frequency domains.\n"
   ]
  },
  {
   "cell_type": "code",
   "execution_count": 12,
   "metadata": {},
   "outputs": [
    {
     "data": {
      "application/vnd.jupyter.widget-view+json": {
       "model_id": "fd90f8e0d10b448dbdf7fb4eb636dda0",
       "version_major": 2,
       "version_minor": 0
      },
      "text/plain": [
       "interactive(children=(Dropdown(description='signal_type', options=('Sine Wave', 'Square Wave', 'Triangular Wav…"
      ]
     },
     "metadata": {},
     "output_type": "display_data"
    },
    {
     "data": {
      "text/plain": [
       "<function __main__.plot_fourier(signal_type, freq)>"
      ]
     },
     "execution_count": 12,
     "metadata": {},
     "output_type": "execute_result"
    }
   ],
   "source": [
    "import numpy as np\n",
    "import matplotlib.pyplot as plt\n",
    "import ipywidgets as widgets\n",
    "from ipywidgets import interact\n",
    "\n",
    "fmax =50\n",
    "\n",
    "def plot_fourier(signal_type, freq):\n",
    "    t = np.linspace(0, 1, 5000000)\n",
    "    if signal_type == \"Sine Wave\":\n",
    "        f = np.sin(2 * np.pi * freq * t)\n",
    "    elif signal_type == \"Square Wave\":\n",
    "        f = np.sign(np.sin(2 * np.pi * freq * t))\n",
    "    elif signal_type == \"Triangular Wave\":\n",
    "        f = 2 * np.abs(2 * ((t * freq) % 1) - 1) - 1\n",
    "\n",
    "    N = len(t)\n",
    "    F = np.fft.fft(f)\n",
    "    F_magnitude = np.abs(F) / N\n",
    "    F_single_sided = F_magnitude[: N // 2] * 2\n",
    "    freq_axis = np.fft.fftfreq(N, d=(t[1]-t[0]))\n",
    "    freq_single_sided = freq_axis[: N // 2]\n",
    "\n",
    "    plt.figure(figsize=(10, 6))\n",
    "    plt.subplot(2, 1, 1)\n",
    "    plt.plot(t, f)\n",
    "    plt.title(f\"{signal_type} (Time Domain)\")\n",
    "    plt.xlabel(\"Time (s)\")\n",
    "    plt.ylabel(\"Amplitude\")\n",
    "\n",
    "    plt.subplot(2, 1, 2)\n",
    "    plt.plot(freq_single_sided, F_single_sided)\n",
    "    plt.title(\"Fourier Transform (Frequency Domain)\")\n",
    "    plt.axis([freq / 2, freq * 2, -0.1, 2]) # type: ignore\n",
    "    plt.xlabel(\"Frequency (Hz)\")\n",
    "    plt.ylabel(\"Magnitude\")\n",
    "    plt.tight_layout()\n",
    "    plt.show()\n",
    "\n",
    "interact(plot_fourier, signal_type=[\"Sine Wave\", \"Square Wave\", \"Triangular Wave\"], freq=(1, fmax, 1))"
   ]
  },
  {
   "cell_type": "markdown",
   "metadata": {},
   "source": [
    "## References\n",
    "- {cite:p}`jacobsen2013fundamentals`\n",
    "- {cite:p}`kuttruff2007acoustics`"
   ]
  }
 ],
 "metadata": {
  "kernelspec": {
   "display_name": "dlp_acoustics",
   "language": "python",
   "name": "python3"
  },
  "language_info": {
   "codemirror_mode": {
    "name": "ipython",
    "version": 3
   },
   "file_extension": ".py",
   "mimetype": "text/x-python",
   "name": "python",
   "nbconvert_exporter": "python",
   "pygments_lexer": "ipython3",
   "version": "3.13.1"
  }
 },
 "nbformat": 4,
 "nbformat_minor": 2
}
